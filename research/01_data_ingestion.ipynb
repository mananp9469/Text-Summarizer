{
 "cells": [
  {
   "cell_type": "code",
   "execution_count": 1,
   "metadata": {},
   "outputs": [],
   "source": [
    "import os"
   ]
  },
  {
   "cell_type": "code",
   "execution_count": 2,
   "metadata": {},
   "outputs": [
    {
     "data": {
      "text/plain": [
       "'/Users/mananpatel/Documents/vscode/nlp/Text-Summarizer/research'"
      ]
     },
     "execution_count": 2,
     "metadata": {},
     "output_type": "execute_result"
    }
   ],
   "source": [
    "%pwd"
   ]
  },
  {
   "cell_type": "code",
   "execution_count": 3,
   "metadata": {},
   "outputs": [],
   "source": [
    "os.chdir(\"../\")"
   ]
  },
  {
   "cell_type": "code",
   "execution_count": 4,
   "metadata": {},
   "outputs": [
    {
     "data": {
      "text/plain": [
       "'/Users/mananpatel/Documents/vscode/nlp/Text-Summarizer'"
      ]
     },
     "execution_count": 4,
     "metadata": {},
     "output_type": "execute_result"
    }
   ],
   "source": [
    "%pwd"
   ]
  },
  {
   "cell_type": "code",
   "execution_count": 5,
   "metadata": {},
   "outputs": [],
   "source": [
    "#entity\n",
    "from dataclasses import dataclass\n",
    "from pathlib import Path\n",
    "\n",
    "@dataclass(frozen = True)\n",
    "class DataIngestionConfig:\n",
    "  root_dir: Path\n",
    "  source_URL: str\n",
    "  local_data_file: Path\n",
    "  unzip_dir: Path"
   ]
  },
  {
   "cell_type": "code",
   "execution_count": 6,
   "metadata": {},
   "outputs": [],
   "source": [
    "#configuration manager from src\n",
    "\n",
    "from textSummarizer.constants import *\n",
    "from textSummarizer.utils.common import read_yaml, create_directories"
   ]
  },
  {
   "cell_type": "code",
   "execution_count": 7,
   "metadata": {},
   "outputs": [],
   "source": [
    "class ConfigurationManager:\n",
    "  def __init__(\n",
    "      self, \n",
    "      config_file_path = CONFIG_FILE_PATH,\n",
    "      params_file_path = PARAMS_FILE_PATH):\n",
    "    \n",
    "    self.config = read_yaml(config_file_path)\n",
    "    self.params = read_yaml(params_file_path)\n",
    "    create_directories([self.config.artifacts_root])\n",
    "\n",
    "  def get_data_ingestion_config(self) -> DataIngestionConfig:\n",
    "    config = self.config.data_ingestion\n",
    "\n",
    "    create_directories([config.root_dir])\n",
    "\n",
    "    data_ingestion_config = DataIngestionConfig(\n",
    "      root_dir = config.root_dir,\n",
    "      source_URL = config.source_URL,\n",
    "      local_data_file = config.local_data_file,\n",
    "      unzip_dir = config.unzip_dir\n",
    "    )\n",
    "\n",
    "    return data_ingestion_config\n",
    "    "
   ]
  },
  {
   "cell_type": "code",
   "execution_count": 8,
   "metadata": {},
   "outputs": [],
   "source": [
    "import os\n",
    "import urllib.request as request\n",
    "import zipfile\n",
    "from textSummarizer.logging import logger\n",
    "from textSummarizer.utils.common import get_size"
   ]
  },
  {
   "cell_type": "code",
   "execution_count": 9,
   "metadata": {},
   "outputs": [],
   "source": [
    "#update components\n",
    "\n",
    "class DataIngestion:\n",
    "  def __init__(self, config: DataIngestionConfig):\n",
    "    self.config = config\n",
    "\n",
    "  def download_file(self):\n",
    "\n",
    "    if not os.path.exists(self.config.local_data_file):\n",
    "      filename, headers = request.urlretrieve(\n",
    "        url = self.config.source_URL,\n",
    "        filename = self.config.local_data_file\n",
    "      )\n",
    "      logger.info(f\"{filename} downloading! with the following info: \\n{headers}\")\n",
    "    \n",
    "    else:\n",
    "      logger.info(f\"File already exists! of size : {get_size(Path(self.config.local_data_file))}\")\n",
    "\n",
    "  def extract_zip_file(self):\n",
    "    \"\"\"\n",
    "    zip_file path : str\n",
    "    Extracts the zip file into the data directory\n",
    "    Returns: None\n",
    "    \"\"\"\n",
    "    unzip_path = self.config.unzip_dir\n",
    "    os.makedirs(unzip_path, exist_ok=True)\n",
    "    with zipfile.ZipFile(self.config.local_data_file, 'r') as zip_ref:\n",
    "      zip_ref.extractall(unzip_path)\n",
    "      logger.info(f\"{self.config.local_data_file} unzipped to {unzip_path}\")"
   ]
  },
  {
   "cell_type": "code",
   "execution_count": 10,
   "metadata": {},
   "outputs": [
    {
     "name": "stdout",
     "output_type": "stream",
     "text": [
      "[2024-02-18 22:06:07,833]: INFO: common: yaml file : <_io.TextIOWrapper name='config/config.yaml' mode='r' encoding='UTF-8'> loaded successfully]\n",
      "[2024-02-18 22:06:07,835]: INFO: common: yaml file : <_io.TextIOWrapper name='params.yaml' mode='r' encoding='UTF-8'> loaded successfully]\n",
      "[2024-02-18 22:06:07,836]: INFO: common: Created directory: artifacts]\n",
      "[2024-02-18 22:06:07,836]: INFO: common: Created directory: artifacts/data_ingestion]\n",
      "[2024-02-18 22:06:09,956]: INFO: 1353919789: artifacts/data_ingestion/samsumdata.zip downloading! with the following info: \n",
      "Connection: close\n",
      "Content-Length: 23627009\n",
      "Cache-Control: max-age=300\n",
      "Content-Security-Policy: default-src 'none'; style-src 'unsafe-inline'; sandbox\n",
      "Content-Type: application/zip\n",
      "ETag: \"2e7409b328d118a1d37018be788babf8bf9640386387da766ac100e96efa3b93\"\n",
      "Strict-Transport-Security: max-age=31536000\n",
      "X-Content-Type-Options: nosniff\n",
      "X-Frame-Options: deny\n",
      "X-XSS-Protection: 1; mode=block\n",
      "X-GitHub-Request-Id: 6BC2:0273:F9DDC9:1385419:65D2C35C\n",
      "Accept-Ranges: bytes\n",
      "Date: Mon, 19 Feb 2024 03:06:08 GMT\n",
      "Via: 1.1 varnish\n",
      "X-Served-By: cache-ewr18161-EWR\n",
      "X-Cache: HIT\n",
      "X-Cache-Hits: 0\n",
      "X-Timer: S1708311968.303994,VS0,VE45\n",
      "Vary: Authorization,Accept-Encoding,Origin\n",
      "Access-Control-Allow-Origin: *\n",
      "Cross-Origin-Resource-Policy: cross-origin\n",
      "X-Fastly-Request-ID: e5c1b1acb2c9d57b3780d003f03805188f907fdf\n",
      "Expires: Mon, 19 Feb 2024 03:11:08 GMT\n",
      "Source-Age: 0\n",
      "\n",
      "]\n",
      "[2024-02-18 22:06:10,149]: INFO: 1353919789: artifacts/data_ingestion/samsumdata.zip unzipped to artifacts/data_ingestion]\n"
     ]
    }
   ],
   "source": [
    "try:\n",
    "  config = ConfigurationManager()\n",
    "  data_ingestion_config = config.get_data_ingestion_config()\n",
    "  data_ingestion = DataIngestion(config = data_ingestion_config)\n",
    "  data_ingestion.download_file()\n",
    "  data_ingestion.extract_zip_file()\n",
    "except Exception as e:\n",
    "  raise e\n"
   ]
  },
  {
   "cell_type": "code",
   "execution_count": null,
   "metadata": {},
   "outputs": [],
   "source": []
  },
  {
   "cell_type": "code",
   "execution_count": null,
   "metadata": {},
   "outputs": [],
   "source": []
  }
 ],
 "metadata": {
  "kernelspec": {
   "display_name": "textS",
   "language": "python",
   "name": "python3"
  },
  "language_info": {
   "codemirror_mode": {
    "name": "ipython",
    "version": 3
   },
   "file_extension": ".py",
   "mimetype": "text/x-python",
   "name": "python",
   "nbconvert_exporter": "python",
   "pygments_lexer": "ipython3",
   "version": "3.11.5"
  }
 },
 "nbformat": 4,
 "nbformat_minor": 2
}
