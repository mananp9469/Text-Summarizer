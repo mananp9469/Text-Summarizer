{
 "cells": [
  {
   "cell_type": "code",
   "execution_count": 1,
   "metadata": {},
   "outputs": [],
   "source": [
    "import os"
   ]
  },
  {
   "cell_type": "code",
   "execution_count": 2,
   "metadata": {},
   "outputs": [],
   "source": [
    "os.chdir(\"../\")"
   ]
  },
  {
   "cell_type": "code",
   "execution_count": 3,
   "metadata": {},
   "outputs": [
    {
     "data": {
      "text/plain": [
       "'/Users/mananpatel/Documents/vscode/nlp/Text-Summarizer'"
      ]
     },
     "execution_count": 3,
     "metadata": {},
     "output_type": "execute_result"
    }
   ],
   "source": [
    "%pwd"
   ]
  },
  {
   "cell_type": "code",
   "execution_count": 4,
   "metadata": {},
   "outputs": [],
   "source": [
    "#entity\n",
    "from dataclasses import dataclass\n",
    "from pathlib import Path\n",
    "\n",
    "@dataclass(frozen = True)\n",
    "class DataValidationConfig:\n",
    "  root_dir: Path\n",
    "  STATUS_FILE: str\n",
    "  ALL_REQUIRED_FILES: list"
   ]
  },
  {
   "cell_type": "code",
   "execution_count": 5,
   "metadata": {},
   "outputs": [],
   "source": [
    "#configuration manager from src\n",
    "\n",
    "from textSummarizer.constants import *\n",
    "from textSummarizer.utils.common import read_yaml, create_directories"
   ]
  },
  {
   "cell_type": "code",
   "execution_count": 6,
   "metadata": {},
   "outputs": [],
   "source": [
    "class ConfigurationManager:\n",
    "  def __init__(\n",
    "      self, \n",
    "      config_file_path = CONFIG_FILE_PATH,\n",
    "      params_file_path = PARAMS_FILE_PATH):\n",
    "    \n",
    "    self.config = read_yaml(config_file_path)\n",
    "    self.params = read_yaml(params_file_path)\n",
    "    create_directories([self.config.artifacts_root])\n",
    "\n",
    "  def get_data_validation_config(self) -> DataValidationConfig:\n",
    "    config = self.config.data_validation\n",
    "\n",
    "    create_directories([config.root_dir])\n",
    "\n",
    "    data_validation_config = DataValidationConfig(\n",
    "      root_dir= config.root_dir,\n",
    "      STATUS_FILE= config.STATUS_FILE,\n",
    "      ALL_REQUIRED_FILES= config.ALL_REQUIRED_FILES\n",
    "    )\n",
    "    return data_validation_config"
   ]
  },
  {
   "cell_type": "code",
   "execution_count": 7,
   "metadata": {},
   "outputs": [],
   "source": [
    "#COMPONENTS\n",
    "import os\n",
    "from textSummarizer.logging import logger"
   ]
  },
  {
   "cell_type": "code",
   "execution_count": 22,
   "metadata": {},
   "outputs": [],
   "source": [
    "class DataValidation:\n",
    "  def __init__(self, config: DataValidationConfig):\n",
    "    self.config = config\n",
    "\n",
    "  def validate_all_files_exist(self) -> bool:\n",
    "    try:\n",
    "      validation_status = None\n",
    "\n",
    "      all_files = os.listdir(os.path.join(\"artifacts\", \"data_ingestion\", \"samsum_dataset\"))\n",
    "\n",
    "      for file in self.config.ALL_REQUIRED_FILES:\n",
    "        if file not in all_files:\n",
    "          validation_status = False\n",
    "          with open(self.config.STATUS_FILE, 'w') as f:\n",
    "            f.write(f\" File {file} validation status: {validation_status}\")\n",
    "          break\n",
    "        else:\n",
    "          validation_status = True\n",
    "          with open(self.config.STATUS_FILE, 'a') as f:\n",
    "            f.write(f\"File {file} validation status: {validation_status}\\n\")\n",
    "    \n",
    "    except Exception as e:\n",
    "      return e\n"
   ]
  },
  {
   "cell_type": "code",
   "execution_count": 23,
   "metadata": {},
   "outputs": [
    {
     "name": "stdout",
     "output_type": "stream",
     "text": [
      "[2024-02-19 22:31:58,824]: INFO: common: yaml file : <_io.TextIOWrapper name='config/config.yaml' mode='r' encoding='UTF-8'> loaded successfully]\n",
      "[2024-02-19 22:31:58,825]: INFO: common: yaml file : <_io.TextIOWrapper name='params.yaml' mode='r' encoding='UTF-8'> loaded successfully]\n",
      "[2024-02-19 22:31:58,826]: INFO: common: Created directory: artifacts]\n",
      "[2024-02-19 22:31:58,826]: INFO: common: Created directory: artifacts/data_validation]\n"
     ]
    }
   ],
   "source": [
    "#pipeline \n",
    "try:\n",
    "  config = ConfigurationManager()\n",
    "  data_validation_config = config.get_data_validation_config()\n",
    "  data_validation = DataValidation(config = data_validation_config)\n",
    "  data_validation.validate_all_files_exist()\n",
    "except Exception as e:\n",
    "  raise e"
   ]
  }
 ],
 "metadata": {
  "kernelspec": {
   "display_name": "base",
   "language": "python",
   "name": "python3"
  },
  "language_info": {
   "codemirror_mode": {
    "name": "ipython",
    "version": 3
   },
   "file_extension": ".py",
   "mimetype": "text/x-python",
   "name": "python",
   "nbconvert_exporter": "python",
   "pygments_lexer": "ipython3",
   "version": "3.11.5"
  }
 },
 "nbformat": 4,
 "nbformat_minor": 2
}
